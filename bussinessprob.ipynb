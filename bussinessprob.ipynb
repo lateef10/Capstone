{
 "cells": [
  {
   "cell_type": "markdown",
   "metadata": {},
   "source": [
    "# Background"
   ]
  },
  {
   "cell_type": "markdown",
   "metadata": {},
   "source": [
    "##### For the entrepreneur, New York offers a stable environment, a large economy,and access to one of the world's busiest regions. Small business owners in the state don't expect that to change and are largely optimistic about what the future holds.That means plenty of business opportunity, in New York City neighborhood. New Yorkers are, on average, wealthier than their national counterparts as well, meaning more money to spend on the goods and services small businesses have to offer.However, the heightened cost of living can prove difficult to manage. Still, entrepreneurs said that if they can overcome the steep expenses associated with payroll and rent, not to mention a tangled web of taxes and fees, operating in New York is an investment that paysoff in the end. Starting a new business in New York City will be a tough work."
   ]
  },
  {
   "cell_type": "markdown",
   "metadata": {},
   "source": [
    "# Problem\n"
   ]
  },
  {
   "cell_type": "markdown",
   "metadata": {},
   "source": [
    "##### One of the biggest challenges for any New York City business is going to be the wide array of competition. In a city of eight million plus, there is going to be competition around every corner. The New York City market has become overly saturated in almost every single industry from doctor practices to restaurants. Businesses now have to go beyond just serving their customers and focus on marketing and reputation in order to improve customer acquisition and grow their businesses. With Queens having one of the most diverse places in the nation. Half of the neighborhood’s residents speak Spanish. Others speak Chinese, Urdu, Hindi, Russian, Portuguese, Greek or Korean. Altogether, the neighborhood is said to be the home of 167 languages. It will be a challenges on what business to start and offer these culture diverse in one of the five boroughs of New York City with it having the largest borough geographically."
   ]
  },
  {
   "cell_type": "markdown",
   "metadata": {},
   "source": [
    "# Solving the Problem Using Data Science"
   ]
  },
  {
   "cell_type": "markdown",
   "metadata": {},
   "source": [
    "##### To solve the existing problems, we will recommend to new business by collecting location data from Foursquare and apply data science techniques and tools. We are going to cluster New York neighborhoods in order to find existing business establishments and venues in order to scope out the competition and create a new trendy business\n",
    "\n"
   ]
  }
 ],
 "metadata": {
  "kernelspec": {
   "display_name": "Python 3",
   "language": "python",
   "name": "python3"
  },
  "language_info": {
   "codemirror_mode": {
    "name": "ipython",
    "version": 3
   },
   "file_extension": ".py",
   "mimetype": "text/x-python",
   "name": "python",
   "nbconvert_exporter": "python",
   "pygments_lexer": "ipython3",
   "version": "3.6.8"
  }
 },
 "nbformat": 4,
 "nbformat_minor": 2
}
